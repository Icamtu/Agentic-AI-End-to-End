{
 "cells": [
  {
   "cell_type": "code",
   "execution_count": 12,
   "id": "790d41ec",
   "metadata": {},
   "outputs": [
    {
     "data": {
      "text/plain": [
       "{'planning': ['accept']}"
      ]
     },
     "execution_count": 12,
     "metadata": {},
     "output_type": "execute_result"
    }
   ],
   "source": [
    "raw_feedback={\"planning\":[\"accept\"]}\n",
    "raw_feedback"
   ]
  },
  {
   "cell_type": "code",
   "execution_count": 13,
   "id": "0e9a7c3f",
   "metadata": {},
   "outputs": [
    {
     "data": {
      "text/plain": [
       "True"
      ]
     },
     "execution_count": 13,
     "metadata": {},
     "output_type": "execute_result"
    }
   ],
   "source": [
    "isinstance(raw_feedback, dict)"
   ]
  },
  {
   "cell_type": "code",
   "execution_count": 14,
   "id": "df9e3165",
   "metadata": {},
   "outputs": [
    {
     "data": {
      "text/plain": [
       "True"
      ]
     },
     "execution_count": 14,
     "metadata": {},
     "output_type": "execute_result"
    }
   ],
   "source": [
    "isinstance(raw_feedback['planning'], list)"
   ]
  },
  {
   "cell_type": "code",
   "execution_count": 15,
   "id": "3b32a399",
   "metadata": {},
   "outputs": [
    {
     "data": {
      "text/plain": [
       "'accept'"
      ]
     },
     "execution_count": 15,
     "metadata": {},
     "output_type": "execute_result"
    }
   ],
   "source": [
    "raw_feedback[\"planning\"][-1].strip().lower()"
   ]
  },
  {
   "cell_type": "code",
   "execution_count": null,
   "id": "072ee7a0",
   "metadata": {},
   "outputs": [],
   "source": [
    "state.feedback={\"planning\":[\"accept\"]}"
   ]
  },
  {
   "cell_type": "code",
   "execution_count": 18,
   "id": "843172e5",
   "metadata": {},
   "outputs": [],
   "source": [
    "SDLCState={\n",
    "                \"feedback_decision\": \"accept\",\n",
    "                \"feedback\": {\"planning\":[\"accept\"]}\n",
    "            }"
   ]
  },
  {
   "cell_type": "code",
   "execution_count": 19,
   "id": "36edfeed",
   "metadata": {},
   "outputs": [],
   "source": [
    "def feedback_route(self, state: SDLCState) -> str:\n",
    "    \n",
    "    \n",
    "    feedback_decision = None\n",
    "    \n",
    "    \n",
    "    if isinstance(state, dict) and \"feedback_decision\" in state:\n",
    "        feedback_decision = state[\"feedback_decision\"]\n",
    "       \n",
    "    # If state is a SDLCState object\n",
    "    elif isinstance(state, SDLCState):\n",
    "        \n",
    "        if hasattr(state, \"feedback_decision\"):\n",
    "            feedback_decision = state.feedback_decision\n",
    "            \n",
    "    # Try to get from node output\n",
    "    else:\n",
    "      \n",
    "        try:\n",
    "            if hasattr(state, \"get\"):\n",
    "                node_output = state.get(\"ProcessFeedback\", {})\n",
    "                \n",
    "                feedback_decision = node_output.get(\"feedback_decision\")\n",
    "                \n",
    "        except Exception as e:\n",
    "            print(f\"Error extracting feedback_decision: {e}\")\n",
    "    \n",
    "    route = \"accept\" if feedback_decision == \"accept\" else \"reject\"\n",
    "    print(f\"Final routing decision: {route}\")\n",
    "    return route"
   ]
  },
  {
   "cell_type": "code",
   "execution_count": 21,
   "id": "f73a7347",
   "metadata": {},
   "outputs": [
    {
     "ename": "TypeError",
     "evalue": "feedback_route() missing 1 required positional argument: 'self'",
     "output_type": "error",
     "traceback": [
      "\u001b[1;31m---------------------------------------------------------------------------\u001b[0m",
      "\u001b[1;31mTypeError\u001b[0m                                 Traceback (most recent call last)",
      "Cell \u001b[1;32mIn[21], line 1\u001b[0m\n\u001b[1;32m----> 1\u001b[0m \u001b[43mfeedback_route\u001b[49m\u001b[43m(\u001b[49m\u001b[43mstate\u001b[49m\u001b[38;5;241;43m=\u001b[39;49m\u001b[43mSDLCState\u001b[49m\u001b[43m)\u001b[49m\n",
      "\u001b[1;31mTypeError\u001b[0m: feedback_route() missing 1 required positional argument: 'self'"
     ]
    }
   ],
   "source": [
    "feedback_route(state=SDLCState)"
   ]
  }
 ],
 "metadata": {
  "kernelspec": {
   "display_name": "Python 3",
   "language": "python",
   "name": "python3"
  },
  "language_info": {
   "codemirror_mode": {
    "name": "ipython",
    "version": 3
   },
   "file_extension": ".py",
   "mimetype": "text/x-python",
   "name": "python",
   "nbconvert_exporter": "python",
   "pygments_lexer": "ipython3",
   "version": "3.12.9"
  }
 },
 "nbformat": 4,
 "nbformat_minor": 5
}
